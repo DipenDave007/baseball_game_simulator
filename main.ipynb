{
 "cells": [
  {
   "cell_type": "code",
   "execution_count": null,
   "metadata": {},
   "outputs": [],
   "source": [
    "os.chdir('/content')\n",
    "\n",
    "!git clone https://github.com/dgrifka/baseball_game_simulator.git /content/baseball_game_simulator\n",
    "\n",
    "os.chdir('/content/baseball_game_simulator')"
   ]
  },
  {
   "cell_type": "code",
   "execution_count": null,
   "metadata": {},
   "outputs": [],
   "source": [
    "import pandas as pd\n",
    "\n",
    "from Simulator.get_game_information import team_info, fetch_games, get_game_info\n",
    "from Simulator.game_simulator import outcomes, calculate_total_bases, simulator, create_detailed_outcomes_df, outcome_rankings\n",
    "from Simulator.visualizations import run_dist, la_ev_graph, create_estimated_bases_table\n",
    "\n",
    "import matplotlib.pyplot as plt\n",
    "from Simulator.constants import team_colors, mlb_team_logos\n",
    "\n",
    "from Simulator.utils import reload_module_from_file, reload_functions_from_module\n",
    "\n",
    "import os"
   ]
  },
  {
   "cell_type": "code",
   "execution_count": null,
   "metadata": {},
   "outputs": [],
   "source": [
    "folder_path = 'your folder path'"
   ]
  },
  {
   "cell_type": "code",
   "execution_count": null,
   "metadata": {},
   "outputs": [],
   "source": [
    "## See teams below\n",
    "teams_df = team_info()\n",
    "\n",
    "## How far back you want to go for games\n",
    "days_ago = 1\n",
    "\n",
    "games_df, games_list = fetch_games(days_ago, all_columns = False)\n",
    "## Remove games we've already created tweets for\n",
    "# games_list = [game for game in games_list if game not in existing_game_pks]\n",
    "\n",
    "## Add short team names\n",
    "games_df = pd.merge(games_df, teams_df[['team.id', 'teamName']], left_on='teams.away.team.id', right_on='team.id')\n",
    "games_df = games_df.rename(columns={'teamName': 'away.team'})\n",
    "games_df = pd.merge(games_df, teams_df[['team.id', 'teamName']], left_on='teams.home.team.id', right_on='team.id')\n",
    "games_df = games_df.rename(columns={'teamName': 'home.team'})\n",
    "games_df = games_df.drop(columns=['team.id_x', 'team.id_y'])\n",
    "games_df = games_df.dropna(subset=['teams.home.score']).reset_index(drop=True)"
   ]
  },
  {
   "cell_type": "code",
   "execution_count": null,
   "metadata": {},
   "outputs": [],
   "source": [
    "## If you want to manually choose the games\n",
    "# games_list = []"
   ]
  },
  {
   "cell_type": "code",
   "execution_count": null,
   "metadata": {},
   "outputs": [],
   "source": [
    "game_info_list = []\n",
    "for game_id in games_list:\n",
    "  # Gather hit data, all data (all_bb), and non-batted balls\n",
    "  result = get_game_info(game_id, all_columns=False)\n",
    "\n",
    "  if result is None:\n",
    "      print(f\"Error retrieving data for game ID: {game_id}\")\n",
    "      continue\n",
    "\n",
    "  game_data, all_bb, steals_and_pickoffs = result\n",
    "\n",
    "  if game_data is None:\n",
    "      print(f\"Error retrieving data for game ID: {game_id}\")\n",
    "      continue\n",
    "  ## venue equals value from game_data where gamePk == game_id\n",
    "  venue = games_df[games_df['gamePk'] == game_id]['venue.name'].values[0]\n",
    "  game_data['venue.name'] = venue\n",
    "  ## Get actual game info\n",
    "  game_info = games_df.copy()\n",
    "  game_info = game_info[game_info['gamePk'] == game_id]\n",
    "  if len(game_info) == 0:\n",
    "      print(f\"No game found for game ID: {game_id}\")\n",
    "      continue\n",
    "  home_team = game_info['home.team'].values[0]\n",
    "  away_team = game_info['away.team'].values[0]\n",
    "  home_score = int(game_info['teams.home.score'].iloc[0])\n",
    "  away_score = int(game_info['teams.away.score'].iloc[0])\n",
    "  print(f\"{away_team} @ {home_team}\")\n",
    "\n",
    "  home_outcomes = outcomes(game_data, steals_and_pickoffs, 'home')\n",
    "  away_outcomes = outcomes(game_data, steals_and_pickoffs, 'away')\n",
    "\n",
    "  # Calculate the estimated total bases\n",
    "  home_estimated_total_bases = calculate_total_bases(home_outcomes)\n",
    "  away_estimated_total_bases = calculate_total_bases(away_outcomes)\n",
    "\n",
    "  # For home team\n",
    "  home_detailed_df = create_detailed_outcomes_df(game_data, steals_and_pickoffs, 'home')\n",
    "  home_detailed_df['team'] = home_team\n",
    "  # For away team\n",
    "  away_detailed_df = create_detailed_outcomes_df(game_data, steals_and_pickoffs, 'away')\n",
    "  away_detailed_df['team'] = away_team\n",
    "\n",
    "  ## Get dataframes for estimated bases graphs\n",
    "  top_15_bases = outcome_rankings(home_detailed_df, away_detailed_df)\n",
    "\n",
    "  ## Clean up the tuples\n",
    "  home_outcomes = [outcome[0] if isinstance(outcome[0], tuple) else outcome[0] for outcome in home_outcomes]\n",
    "  away_outcomes = [outcome[0] if isinstance(outcome[0], tuple) else outcome[0] for outcome in away_outcomes]\n",
    "\n",
    "  # Get the last value from the officialDate column, since there could be multiple games\n",
    "  ## We might need to add gamePk in the save, since multiple games can be played on the same day by the same teams\n",
    "  game_date = pd.to_datetime(game_info['officialDate'].iloc[-1])\n",
    "  formatted_date = game_date.strftime(\"%m/%d/%Y\")\n",
    "\n",
    "  num_simulations = 2000\n",
    "  home_runs_scored, away_runs_scored, home_win_percentage, away_win_percentage, tie_percentage = simulator(num_simulations, home_outcomes, away_outcomes)\n",
    "  la_ev_graph(home_outcomes, away_outcomes, home_runs_scored, away_runs_scored, home_team, away_team, home_score, away_score, home_win_percentage, away_win_percentage, tie_percentage, mlb_team_logos, formatted_date, folder_path)\n",
    "  run_dist(num_simulations, home_runs_scored, away_runs_scored, home_team, away_team, home_score, away_score, home_win_percentage, away_win_percentage, tie_percentage, formatted_date, folder_path)\n",
    "  create_estimated_bases_table(top_15_bases, away_team, home_team, away_score, home_score, away_win_percentage, home_win_percentage, formatted_date, folder_path)"
   ]
  }
 ],
 "metadata": {
  "kernelspec": {
   "display_name": "base",
   "language": "python",
   "name": "python3"
  },
  "language_info": {
   "codemirror_mode": {
    "name": "ipython",
    "version": 3
   },
   "file_extension": ".py",
   "mimetype": "text/x-python",
   "name": "python",
   "nbconvert_exporter": "python",
   "pygments_lexer": "ipython3",
   "version": "3.11.7"
  }
 },
 "nbformat": 4,
 "nbformat_minor": 2
}
