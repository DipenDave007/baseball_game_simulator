{
 "cells": [
  {
   "cell_type": "code",
   "execution_count": 1,
   "metadata": {},
   "outputs": [
    {
     "name": "stdout",
     "output_type": "stream",
     "text": [
      "https://statsapi.mlb.com/api/v1/teams\n"
     ]
    },
    {
     "name": "stderr",
     "output_type": "stream",
     "text": [
      "c:\\Users\\ks93\\AppData\\Local\\anaconda3\\Lib\\site-packages\\urllib3\\connectionpool.py:1100: InsecureRequestWarning: Unverified HTTPS request is being made to host 'statsapi.mlb.com'. Adding certificate verification is strongly advised. See: https://urllib3.readthedocs.io/en/latest/advanced-usage.html#tls-warnings\n",
      "  warnings.warn(\n"
     ]
    },
    {
     "name": "stdout",
     "output_type": "stream",
     "text": [
      "https://statsapi.mlb.com/api/v1/schedule?language=en&sportId=1&season=2024\n"
     ]
    },
    {
     "name": "stderr",
     "output_type": "stream",
     "text": [
      "c:\\Users\\ks93\\AppData\\Local\\anaconda3\\Lib\\site-packages\\urllib3\\connectionpool.py:1100: InsecureRequestWarning: Unverified HTTPS request is being made to host 'statsapi.mlb.com'. Adding certificate verification is strongly advised. See: https://urllib3.readthedocs.io/en/latest/advanced-usage.html#tls-warnings\n",
      "  warnings.warn(\n"
     ]
    },
    {
     "name": "stdout",
     "output_type": "stream",
     "text": [
      "[745496, 746466, 744845]\n",
      "Number of games: 3\n",
      "0     745496: Minnesota Twins-Pittsburgh Pirates\n",
      "1       746466: Milwaukee Brewers-Detroit Tigers\n",
      "2    744845: Atlanta Braves-Washington Nationals\n",
      "dtype: object\n",
      "https://statsapi.mlb.com/api/v1.1/game/745496/feed/live\n"
     ]
    },
    {
     "name": "stderr",
     "output_type": "stream",
     "text": [
      "c:\\Users\\ks93\\AppData\\Local\\anaconda3\\Lib\\site-packages\\urllib3\\connectionpool.py:1100: InsecureRequestWarning: Unverified HTTPS request is being made to host 'statsapi.mlb.com'. Adding certificate verification is strongly advised. See: https://urllib3.readthedocs.io/en/latest/advanced-usage.html#tls-warnings\n",
      "  warnings.warn(\n",
      "c:\\Users\\ks93\\OneDrive - Molson Coors Beverage Company\\Desktop\\Victory_Analytics\\baseball_game_simulator\\get_game_information.py:107: FutureWarning: The behavior of DataFrame concatenation with empty or all-NA entries is deprecated. In a future version, this will no longer exclude empty or all-NA columns when determining the result dtypes. To retain the old behavior, exclude the relevant entries before the concat operation.\n",
      "  total_pbp = pd.concat(df_list)\n",
      "c:\\Users\\ks93\\OneDrive - Molson Coors Beverage Company\\Desktop\\Victory_Analytics\\baseball_game_simulator\\visualizations.py:38: UserWarning: set_ticklabels() should only be used with a fixed number of ticks, i.e. after set_ticks() or using a FixedLocator.\n",
      "  plt.gca().set_yticklabels([f'{x:.1f}' for x in plt.gca().get_yticks()])\n"
     ]
    },
    {
     "name": "stdout",
     "output_type": "stream",
     "text": [
      "https://statsapi.mlb.com/api/v1.1/game/746466/feed/live\n"
     ]
    },
    {
     "name": "stderr",
     "output_type": "stream",
     "text": [
      "c:\\Users\\ks93\\AppData\\Local\\anaconda3\\Lib\\site-packages\\urllib3\\connectionpool.py:1100: InsecureRequestWarning: Unverified HTTPS request is being made to host 'statsapi.mlb.com'. Adding certificate verification is strongly advised. See: https://urllib3.readthedocs.io/en/latest/advanced-usage.html#tls-warnings\n",
      "  warnings.warn(\n",
      "c:\\Users\\ks93\\OneDrive - Molson Coors Beverage Company\\Desktop\\Victory_Analytics\\baseball_game_simulator\\get_game_information.py:107: FutureWarning: The behavior of DataFrame concatenation with empty or all-NA entries is deprecated. In a future version, this will no longer exclude empty or all-NA columns when determining the result dtypes. To retain the old behavior, exclude the relevant entries before the concat operation.\n",
      "  total_pbp = pd.concat(df_list)\n",
      "c:\\Users\\ks93\\OneDrive - Molson Coors Beverage Company\\Desktop\\Victory_Analytics\\baseball_game_simulator\\visualizations.py:38: UserWarning: set_ticklabels() should only be used with a fixed number of ticks, i.e. after set_ticks() or using a FixedLocator.\n",
      "  plt.gca().set_yticklabels([f'{x:.1f}' for x in plt.gca().get_yticks()])\n"
     ]
    },
    {
     "name": "stdout",
     "output_type": "stream",
     "text": [
      "https://statsapi.mlb.com/api/v1.1/game/744845/feed/live\n"
     ]
    },
    {
     "name": "stderr",
     "output_type": "stream",
     "text": [
      "c:\\Users\\ks93\\AppData\\Local\\anaconda3\\Lib\\site-packages\\urllib3\\connectionpool.py:1100: InsecureRequestWarning: Unverified HTTPS request is being made to host 'statsapi.mlb.com'. Adding certificate verification is strongly advised. See: https://urllib3.readthedocs.io/en/latest/advanced-usage.html#tls-warnings\n",
      "  warnings.warn(\n",
      "c:\\Users\\ks93\\OneDrive - Molson Coors Beverage Company\\Desktop\\Victory_Analytics\\baseball_game_simulator\\get_game_information.py:107: FutureWarning: The behavior of DataFrame concatenation with empty or all-NA entries is deprecated. In a future version, this will no longer exclude empty or all-NA columns when determining the result dtypes. To retain the old behavior, exclude the relevant entries before the concat operation.\n",
      "  total_pbp = pd.concat(df_list)\n",
      "c:\\Users\\ks93\\OneDrive - Molson Coors Beverage Company\\Desktop\\Victory_Analytics\\baseball_game_simulator\\visualizations.py:38: UserWarning: set_ticklabels() should only be used with a fixed number of ticks, i.e. after set_ticks() or using a FixedLocator.\n",
      "  plt.gca().set_yticklabels([f'{x:.1f}' for x in plt.gca().get_yticks()])\n"
     ]
    }
   ],
   "source": [
    "import pandas as pd\n",
    "\n",
    "from get_game_information import team_info, fetch_games, get_game_info\n",
    "from game_simulator import outcomes, calculate_total_bases, simulator\n",
    "from visualizations import run_dist, tb_barplot, la_ev_graph\n",
    "\n",
    "teams_df = team_info()\n",
    "\n",
    "## How far back you want to go for games\n",
    "days_ago = 0.55\n",
    "\n",
    "games_df, games_list, venues_list = fetch_games(days_ago)\n",
    "## Add short team names\n",
    "games_df = pd.merge(games_df, teams_df[['team.id', 'teamName']], left_on='teams.away.team.id', right_on='team.id')\n",
    "games_df = games_df.rename(columns={'teamName': 'away.team'})\n",
    "games_df = pd.merge(games_df, teams_df[['team.id', 'teamName']], left_on='teams.home.team.id', right_on='team.id')\n",
    "games_df = games_df.rename(columns={'teamName': 'home.team'})\n",
    "games_df = games_df.drop(columns=['team.id_x', 'team.id_y'])\n",
    "\n",
    "game_info_list = []\n",
    "\n",
    "for game_id, venue in zip(games_list, venues_list):\n",
    "  game_data = get_game_info(game_id)\n",
    "  if game_data is None:\n",
    "      print(f\"Error retrieving data for game ID: {game_id}\")\n",
    "      continue\n",
    "  game_data['venue.name'] = venue\n",
    "  ## Get actual game info\n",
    "  game_info = games_df.copy()\n",
    "  game_info = game_info[game_info['gamePk'] == game_id]\n",
    "\n",
    "  home_team = game_info['home.team'].values[0]\n",
    "  away_team = game_info['away.team'].values[0]\n",
    "  home_score = int(game_info['teams.home.score'].iloc[0])\n",
    "  away_score = int(game_info['teams.away.score'].iloc[0])\n",
    "\n",
    "  home_outcomes = outcomes(game_data, 'home')\n",
    "  away_outcomes = outcomes(game_data, 'away')\n",
    "\n",
    "  # Calculate the estimated total bases\n",
    "  home_estimated_total_bases = calculate_total_bases(home_outcomes)\n",
    "  away_estimated_total_bases = calculate_total_bases(away_outcomes)\n",
    "\n",
    "  num_simulations = 3500\n",
    "  home_runs_scored, away_runs_scored, home_win_percentage, away_win_percentage, tie_percentage = simulator(num_simulations, home_outcomes, away_outcomes)\n",
    "  run_dist(num_simulations, home_runs_scored, away_runs_scored, home_team, away_team, home_score, away_score, home_win_percentage, away_win_percentage, tie_percentage)\n",
    "  # tb_barplot(home_estimated_total_bases, away_estimated_total_bases, home_win_percentage, away_win_percentage, tie_percentage, home_team, away_team, home_score, away_score)\n",
    "  la_ev_graph(home_outcomes, away_outcomes, home_runs_scored, away_runs_scored, home_team, away_team, home_score, away_score, home_win_percentage, away_win_percentage, tie_percentage)"
   ]
  }
 ],
 "metadata": {
  "kernelspec": {
   "display_name": "base",
   "language": "python",
   "name": "python3"
  },
  "language_info": {
   "codemirror_mode": {
    "name": "ipython",
    "version": 3
   },
   "file_extension": ".py",
   "mimetype": "text/x-python",
   "name": "python",
   "nbconvert_exporter": "python",
   "pygments_lexer": "ipython3",
   "version": "3.11.7"
  }
 },
 "nbformat": 4,
 "nbformat_minor": 2
}
