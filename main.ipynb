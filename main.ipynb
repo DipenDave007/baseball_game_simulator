{
 "cells": [
  {
   "cell_type": "code",
   "execution_count": null,
   "metadata": {},
   "outputs": [],
   "source": [
    "import pandas as pd\n",
    "pd.set_option('display.max_columns', None)"
   ]
  },
  {
   "cell_type": "code",
   "execution_count": null,
   "metadata": {},
   "outputs": [],
   "source": [
    "game_info['teams.home.team.name'].values[0]"
   ]
  },
  {
   "cell_type": "code",
   "execution_count": null,
   "metadata": {},
   "outputs": [],
   "source": [
    "from get_game_information import fetch_games, get_game_info\n",
    "\n",
    "games_df, games_list, venues_list = fetch_games()\n",
    "\n",
    "game_info_list = []\n",
    "\n",
    "for game_id, venue in zip(games_list, venues_list):\n",
    "  game_data = get_game_info(game_id)\n",
    "  game_data['venue.name'] = venue\n",
    "  ## Get actual game info\n",
    "  game_info = games_df.copy()\n",
    "  game_info = game_info[game_info['gamePk'] == game_id]\n",
    "  home_team = game_info['teams.home.team.name'].values[0]\n",
    "  away_team = game_info['teams.away.team.name'].values[0]\n",
    "\n",
    "  break\n",
    "  ## Add simulation\n",
    "\n",
    "# print(game_data)"
   ]
  },
  {
   "cell_type": "code",
   "execution_count": null,
   "metadata": {},
   "outputs": [],
   "source": [
    "games_df.head()"
   ]
  },
  {
   "cell_type": "code",
   "execution_count": null,
   "metadata": {},
   "outputs": [],
   "source": [
    "game_data.head()"
   ]
  },
  {
   "cell_type": "code",
   "execution_count": null,
   "metadata": {},
   "outputs": [],
   "source": [
    "def outcomes(game_data, home_or_away):\n",
    "    home_or_away_team = game_data.copy()\n",
    "    if home_or_away == 'home':\n",
    "        home_or_away_team = home_or_away_team[home_or_away_team['isTopInning'] == False]\n",
    "    else:\n",
    "        home_or_away_team = home_or_away_team[home_or_away_team['isTopInning'] == True]\n",
    "\n",
    "    ## Calculate number of automatic outs (i.e. strikeouts)\n",
    "    ## We're going to assume these outs stay the same in the simulations\n",
    "    automatic_outs = home_or_away_team.copy()\n",
    "    automatic_outs = automatic_outs[(automatic_outs['eventType'] == 'out') & (automatic_outs['hitData.launchSpeed'].isnull())]\n",
    "    strikeouts = len(automatic_outs)\n",
    "    ## Calculate the number of walks\n",
    "    walks = home_or_away_team.copy()\n",
    "    walks = walks[walks['eventType'] == 'walk']\n",
    "    walk_len = len(walks)\n",
    "\n",
    "    ## Now let's create a df with balls put in play\n",
    "    put_in_play = home_or_away_team.copy()\n",
    "    put_in_play = put_in_play[~put_in_play['hitData.launchSpeed'].isnull()].reset_index(drop=True)\n",
    "    put_in_play = put_in_play[['hitData.launchSpeed', 'hitData.launchAngle', 'venue.name']]\n",
    "\n",
    "    ## Now, we'll create a list of outcomes to sample from\n",
    "    # Convert the DataFrame to a list of lists\n",
    "    pip_list = put_in_play[['hitData.launchSpeed', 'hitData.launchAngle', 'venue.name']].values.tolist()\n",
    "\n",
    "    # Create a list of \"strikeout\" and \"walk\" strings\n",
    "    strikeout_list = [\"strikeout\"] * strikeouts\n",
    "    walk_list = [\"walk\"] * walk_len\n",
    "\n",
    "    # Combine the two lists\n",
    "    outcomes = pip_list + strikeout_list + walk_list\n",
    "\n",
    "    return outcomes\n"
   ]
  },
  {
   "cell_type": "code",
   "execution_count": null,
   "metadata": {},
   "outputs": [],
   "source": [
    "home_outcomes = outcomes(game_data, 'home')\n",
    "away_outcomes = outcomes(game_data, 'away')"
   ]
  },
  {
   "cell_type": "code",
   "execution_count": null,
   "metadata": {},
   "outputs": [],
   "source": [
    "import pickle\n",
    "import numpy as np"
   ]
  },
  {
   "cell_type": "code",
   "execution_count": null,
   "metadata": {},
   "outputs": [],
   "source": [
    "import random\n",
    "import pickle\n",
    "import pandas as pd\n",
    "\n",
    "# Load the saved model and fitted preprocessor\n",
    "with open('logistic_regression_model.pkl', 'rb') as file:\n",
    "    loaded_model = pickle.load(file)\n",
    "\n",
    "with open('preprocessor.pkl', 'rb') as file:\n",
    "    preprocessor = pickle.load(file)\n",
    "\n",
    "def simulate_game(outcomes):\n",
    "    outs = 0\n",
    "    runs = 0\n",
    "    bases = [False, False, False]  # First, Second, Third base\n",
    "    \n",
    "    outcomes_copy = outcomes.copy()  # Create a copy of the outcomes list\n",
    "    \n",
    "    while outcomes_copy:  # Continue until all outcomes are used\n",
    "        if outs == 3:\n",
    "            outs = 0\n",
    "            bases = [False, False, False]  # Clear the bases after 3 outs\n",
    "        \n",
    "        # Sample an outcome from the list\n",
    "        outcome = random.choice(outcomes_copy)\n",
    "        outcomes_copy.remove(outcome)  # Remove the sampled outcome from the copy\n",
    "\n",
    "        if outcome == \"out\":\n",
    "            outs += 1\n",
    "        elif outcome == \"walk\":\n",
    "            advance_runner(bases)\n",
    "        elif isinstance(outcome, list) and len(outcome) == 3:\n",
    "            # Extract the launch speed, launch angle, and stadium from the outcome\n",
    "            launch_speed, launch_angle, stadium = outcome\n",
    "\n",
    "            # Create a DataFrame with the new example\n",
    "            new_example = pd.DataFrame({\n",
    "                'hitData_launchSpeed': [launch_speed],\n",
    "                'hitData_launchAngle': [launch_angle],\n",
    "                'venue_name': [stadium]\n",
    "            })\n",
    "\n",
    "            # Preprocess the new example using the loaded preprocessor\n",
    "            new_example_preprocessed = preprocessor.transform(new_example)\n",
    "\n",
    "            # Get predicted probabilities\n",
    "            probabilities = loaded_model.predict_proba(new_example_preprocessed)[0]\n",
    "\n",
    "            # Generate a random value between 0 and 1\n",
    "            random_value = random.random()\n",
    "\n",
    "            # Determine the outcome based on the probabilities\n",
    "            if random_value < probabilities[0]:\n",
    "                outs += 1\n",
    "            elif random_value < probabilities[0] + probabilities[1]:\n",
    "                runs += advance_runner(bases)\n",
    "                bases[0] = True\n",
    "            elif random_value < probabilities[0] + probabilities[1] + probabilities[2]:\n",
    "                runs += advance_runner(bases, 2)\n",
    "                bases[1] = True\n",
    "            elif random_value < probabilities[0] + probabilities[1] + probabilities[2] + probabilities[3]:\n",
    "                runs += advance_runner(bases, 3)\n",
    "                bases[2] = True\n",
    "            else:\n",
    "                runs += advance_runner(bases, 4)\n",
    "                bases = [False, False, False]\n",
    "    \n",
    "    return runs\n",
    "\n",
    "def advance_runner(bases, count=1):\n",
    "    runs = 0\n",
    "    for _ in range(count):\n",
    "        if bases[2]:\n",
    "            runs += 1\n",
    "        bases[2] = bases[1]\n",
    "        bases[1] = bases[0]\n",
    "        bases[0] = True\n",
    "    return runs"
   ]
  },
  {
   "cell_type": "code",
   "execution_count": null,
   "metadata": {},
   "outputs": [],
   "source": [
    "import numpy as np\n",
    "import matplotlib.pyplot as plt\n",
    "\n",
    "# Simulate the game for home_outcomes and away_outcomes 50,000 times\n",
    "num_simulations = 25\n",
    "home_runs_scored = np.array([simulate_game(home_outcomes) for _ in range(num_simulations)])\n",
    "away_runs_scored = np.array([simulate_game(away_outcomes) for _ in range(num_simulations)])\n",
    "\n",
    "# Compare the scores and calculate win/tie/loss percentages\n",
    "home_wins = np.sum(home_runs_scored > away_runs_scored)\n",
    "away_wins = np.sum(home_runs_scored < away_runs_scored)\n",
    "ties = np.sum(home_runs_scored == away_runs_scored)\n",
    "\n",
    "home_win_percentage = home_wins / num_simulations * 100\n",
    "away_win_percentage = away_wins / num_simulations * 100\n",
    "tie_percentage = ties / num_simulations * 100\n",
    "\n",
    "print(f\"Home team wins: {home_win_percentage:.2f}%\")\n",
    "print(f\"Away team wins: {away_win_percentage:.2f}%\")\n",
    "print(f\"Ties: {tie_percentage:.2f}%\")"
   ]
  },
  {
   "cell_type": "code",
   "execution_count": null,
   "metadata": {},
   "outputs": [],
   "source": [
    "# Graph the distributions of runs scored\n",
    "plt.figure(figsize=(10, 6))\n",
    "plt.hist(home_runs_scored, bins=range(max(home_runs_scored)+2), alpha=0.5, label=f'{home_team}')\n",
    "plt.hist(away_runs_scored, bins=range(max(away_runs_scored)+2), alpha=0.5, label=f'{away_team}')\n",
    "plt.xlabel('Runs Scored')\n",
    "plt.ylabel('Frequency')\n",
    "plt.title(f'Distribution of Runs Scored ({num_simulations} Simulations)')\n",
    "plt.legend()\n",
    "plt.show()"
   ]
  }
 ],
 "metadata": {
  "kernelspec": {
   "display_name": "base",
   "language": "python",
   "name": "python3"
  },
  "language_info": {
   "codemirror_mode": {
    "name": "ipython",
    "version": 3
   },
   "file_extension": ".py",
   "mimetype": "text/x-python",
   "name": "python",
   "nbconvert_exporter": "python",
   "pygments_lexer": "ipython3",
   "version": "3.11.7"
  }
 },
 "nbformat": 4,
 "nbformat_minor": 2
}
